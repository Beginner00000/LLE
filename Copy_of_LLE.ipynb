{
  "nbformat": 4,
  "nbformat_minor": 0,
  "metadata": {
    "colab": {
      "name": "Copy of LLE.ipynb",
      "provenance": [],
      "collapsed_sections": [],
      "authorship_tag": "ABX9TyOdq50aQZjvAt+gG2H6FM+C",
      "include_colab_link": true
    },
    "kernelspec": {
      "name": "python3",
      "display_name": "Python 3"
    },
    "language_info": {
      "name": "python"
    }
  },
  "cells": [
    {
      "cell_type": "markdown",
      "metadata": {
        "id": "view-in-github",
        "colab_type": "text"
      },
      "source": [
        "<a href=\"https://colab.research.google.com/github/Beginner00000/LLE/blob/main/Copy_of_LLE.ipynb\" target=\"_parent\"><img src=\"https://colab.research.google.com/assets/colab-badge.svg\" alt=\"Open In Colab\"/></a>"
      ]
    },
    {
      "cell_type": "code",
      "metadata": {
        "id": "utVY4RvDKq6U"
      },
      "source": [
        "import pandas as pd # for data manipulation\n",
        "import numpy as np # for data manipulation\n",
        "\n",
        "# Visualization\n",
        "import plotly.express as px # for data visualization\n",
        "\n",
        "# Skleran\n",
        "from sklearn.datasets import make_swiss_roll # for creating swiss roll\n",
        "from sklearn.manifold import LocallyLinearEmbedding as LLE # for LLE dimensionality reduction\n",
        "from sklearn.manifold import Isomap"
      ],
      "execution_count": null,
      "outputs": []
    },
    {
      "cell_type": "code",
      "metadata": {
        "id": "MuyvMVC-LJOC"
      },
      "source": [
        "X, y = make_swiss_roll(n_samples=2000, noise=0.05)\n",
        "\n",
        "# Make it thinner\n",
        "X[:, 1] *= .5\n",
        "\n",
        "# Create a flat addon to the top of the swiss roll\n",
        "X_x=np.zeros((300,1))\n",
        "X_y=np.random.uniform(low=0, high=10, size=(300,1))\n",
        "X_z=np.random.uniform(low=14, high=25, size=(300,1))\n",
        "X2=np.concatenate((X_x, X_y, X_z), axis=1)\n",
        "y2=X_z.reshape(300)\n",
        "\n",
        "# Concatenate swiss roll and flat rectangle arrays\n",
        "X_two=np.concatenate((X, X2))\n",
        "y_two=np.concatenate((y, y2))"
      ],
      "execution_count": null,
      "outputs": []
    },
    {
      "cell_type": "code",
      "metadata": {
        "id": "L8mX_KXyLbTN"
      },
      "source": [
        "def Plot3D(X, y, plot_name):\n",
        "    fig = px.scatter_3d(None, \n",
        "                        x=X[:,0], y=X[:,1], z=X[:,2],\n",
        "                        color=y,\n",
        "                        height=800, width=800\n",
        "                       )\n",
        "    # Update chart looks\n",
        "    fig.update_layout(title_text=plot_name,\n",
        "                      showlegend=False,\n",
        "                      legend=dict(orientation=\"h\", yanchor=\"top\", y=0, xanchor=\"center\", x=0.5),\n",
        "                      scene_camera=dict(up=dict(x=0, y=0, z=1), \n",
        "                                            center=dict(x=0, y=0, z=-0.1),\n",
        "                                            eye=dict(x=1.5, y=1.75, z=1)),\n",
        "                                            margin=dict(l=0, r=0, b=0, t=0),\n",
        "                      scene = dict(xaxis=dict(backgroundcolor='white',\n",
        "                                              color='black',\n",
        "                                              gridcolor='#f0f0f0',\n",
        "                                              title_font=dict(size=10),\n",
        "                                              tickfont=dict(size=10),\n",
        "                                             ),\n",
        "                                   yaxis=dict(backgroundcolor='white',\n",
        "                                              color='black',\n",
        "                                              gridcolor='#f0f0f0',\n",
        "                                              title_font=dict(size=10),\n",
        "                                              tickfont=dict(size=10),\n",
        "                                              ),\n",
        "                                   zaxis=dict(backgroundcolor='lightgrey',\n",
        "                                              color='black', \n",
        "                                              gridcolor='#f0f0f0',\n",
        "                                              title_font=dict(size=10),\n",
        "                                              tickfont=dict(size=10),\n",
        "                                             )))\n",
        "    # Update marker size\n",
        "    fig.update_traces(marker=dict(size=3, \n",
        "                                  line=dict(color='black', width=0.1)))\n",
        "    fig.update(layout_coloraxis_showscale=False)\n",
        "    return fig"
      ],
      "execution_count": null,
      "outputs": []
    },
    {
      "cell_type": "code",
      "metadata": {
        "id": "DWR2db_GLfBO"
      },
      "source": [
        "def Plot2D(X, y, plot_name):\n",
        "    # Create a scatter plot\n",
        "    fig = px.scatter(None, x=X[:,0], y=X[:,1], \n",
        "                     labels={\n",
        "                         \"x\": \"Dimension 1\",\n",
        "                         \"y\": \"Dimension 2\",\n",
        "                     },\n",
        "                     opacity=1, color=y)\n",
        "\n",
        "    # Change chart background color\n",
        "    fig.update_layout(dict(plot_bgcolor = 'white'))\n",
        "\n",
        "    # Update axes lines\n",
        "    fig.update_xaxes(showgrid=True, gridwidth=1, gridcolor='lightgrey', \n",
        "                     zeroline=True, zerolinewidth=1, zerolinecolor='lightgrey', \n",
        "                     showline=True, linewidth=1, linecolor='black')\n",
        "\n",
        "    fig.update_yaxes(showgrid=True, gridwidth=1, gridcolor='lightgrey', \n",
        "                     zeroline=True, zerolinewidth=1, zerolinecolor='lightgrey', \n",
        "                     showline=True, linewidth=1, linecolor='black')\n",
        "\n",
        "    # Set figure title\n",
        "    fig.update_layout(title_text=plot_name)\n",
        "\n",
        "    # Update marker size\n",
        "    fig.update_traces(marker=dict(size=5,\n",
        "                                 line=dict(color='black', width=0.3)))\n",
        "    return fig"
      ],
      "execution_count": null,
      "outputs": []
    },
    {
      "cell_type": "code",
      "metadata": {
        "id": "a4K2V-n5Lw8H"
      },
      "source": [
        "Plot3D(X,y,'krishna')"
      ],
      "execution_count": null,
      "outputs": []
    },
    {
      "cell_type": "code",
      "metadata": {
        "id": "nltb3-Z7Og5F"
      },
      "source": [
        "Plot3D(X_two, y_two, 'Modified Swiss Roll')"
      ],
      "execution_count": null,
      "outputs": []
    },
    {
      "cell_type": "code",
      "metadata": {
        "id": "cfLzt5LXO9gr"
      },
      "source": [
        "def run_lle(num_neighbors, dims, mthd, data):\n",
        "    # Specify LLE parameters\n",
        "    embed_lle = LLE(n_neighbors=num_neighbors, # default=5, number of neighbors to consider for each point.\n",
        "                    n_components=dims, # default=2, number of dimensions of the new space \n",
        "                    reg=0.001, # default=1e-3, regularization constant, multiplies the trace of the local covariance matrix of the distances.\n",
        "                    eigen_solver='auto', # {‘auto’, ‘arpack’, ‘dense’}, default=’auto’, auto : algorithm will attempt to choose the best method for input data\n",
        "                    #tol=1e-06, # default=1e-6, Tolerance for ‘arpack’ method. Not used if eigen_solver==’dense’.\n",
        "                    #max_iter=100, # default=100, maximum number of iterations for the arpack solver. Not used if eigen_solver==’dense’.\n",
        "                    method=mthd, # {‘standard’, ‘hessian’, ‘modified’, ‘ltsa’}, default=’standard’\n",
        "                    #hessian_tol=0.0001, # default=1e-4, Tolerance for Hessian eigenmapping method. Only used if method == 'hessian'\n",
        "                    modified_tol=1e-12, # default=1e-12, Tolerance for modified LLE method. Only used if method == 'modified'\n",
        "                    neighbors_algorithm='auto', # {‘auto’, ‘brute’, ‘kd_tree’, ‘ball_tree’}, default=’auto’, algorithm to use for nearest neighbors search, passed to neighbors.NearestNeighbors instance\n",
        "                    random_state=42, # default=None, Determines the random number generator when eigen_solver == ‘arpack’. Pass an int for reproducible results across multiple function calls.\n",
        "                    n_jobs=-1 # default=None, The number of parallel jobs to run. -1 means using all processors.\n",
        "                   )\n",
        "    # Fit and transofrm the data\n",
        "    result = embed_lle.fit_transform(data)\n",
        "    \n",
        "    # Return results\n",
        "    return result"
      ],
      "execution_count": null,
      "outputs": []
    },
    {
      "cell_type": "code",
      "metadata": {
        "id": "qklrJ0WIPAyc"
      },
      "source": [
        "def run_isomap(num_neighbors, dims, data):\n",
        "    # Specify Isomap parameters\n",
        "    embed_isomap = Isomap(n_neighbors=num_neighbors, n_components=dims, n_jobs=-1)\n",
        "    \n",
        "    # Fit and transofrm the data\n",
        "    result = embed_isomap.fit_transform(data)\n",
        "    \n",
        "    # Return results\n",
        "    return result"
      ],
      "execution_count": null,
      "outputs": []
    },
    {
      "cell_type": "code",
      "metadata": {
        "id": "HgGG_pmzPGz7"
      },
      "source": [
        "######### Regular swiss roll #########\n",
        "\n",
        "# Standard LLE on a regular swiss roll\n",
        "std_lle_res=run_lle(num_neighbors=30, dims=2, mthd='standard', data=X)\n",
        "\n",
        "# Modified LLE on a regular swiss roll\n",
        "mlle_res=run_lle(num_neighbors=30, dims=2, mthd='modified', data=X)\n",
        "\n",
        "# Isomap on a regular swiss roll\n",
        "isomap_res=run_isomap(num_neighbors=30, dims=2, data=X)\n",
        "\n",
        "\n",
        "######### Modified swiss roll #########\n",
        "\n",
        "# Modified LLE on a modified swiss roll\n",
        "mod_mlle_res=run_lle(num_neighbors=30, dims=2, mthd='modified', data=X_two)\n",
        "\n",
        "# Isomap on a modified swiss roll\n",
        "mod_isomap_res=run_isomap(num_neighbors=30, dims=2, data=X_two)"
      ],
      "execution_count": null,
      "outputs": []
    },
    {
      "cell_type": "code",
      "metadata": {
        "id": "NNVtBxbvPP4Q"
      },
      "source": [
        "Plot2D(std_lle_res, y, 'Regular Swiss Roll - LLE')"
      ],
      "execution_count": null,
      "outputs": []
    },
    {
      "cell_type": "code",
      "metadata": {
        "id": "QXFjJKCoPlt9"
      },
      "source": [
        "Plot2D(mlle_res, y, 'Regular Swiss Roll - MLLE')"
      ],
      "execution_count": null,
      "outputs": []
    },
    {
      "cell_type": "code",
      "metadata": {
        "id": "jB8UtZXMPykH"
      },
      "source": [
        "Plot2D(isomap_res, y, 'Regular Swiss Roll - Isomap')\n",
        "#view rawArt036_Python_006.py hosted with ❤ by GitHub"
      ],
      "execution_count": null,
      "outputs": []
    },
    {
      "cell_type": "code",
      "metadata": {
        "id": "29WvDq2ZP-Rj"
      },
      "source": [
        ""
      ],
      "execution_count": null,
      "outputs": []
    }
  ]
}